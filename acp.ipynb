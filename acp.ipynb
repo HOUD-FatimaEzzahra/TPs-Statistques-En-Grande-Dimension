{
 "cells": [
  {
   "cell_type": "markdown",
   "id": "b56bb0ee",
   "metadata": {},
   "source": [
    "# Atelier 01\n",
    "--"
   ]
  },
  {
   "cell_type": "code",
   "execution_count": 1,
   "id": "5a410410",
   "metadata": {},
   "outputs": [],
   "source": [
    "##Pandas, Numpy, Matplotlib\n",
    "import pandas as ps\n",
    "import numpy as np\n",
    "import matplotlib.pyplot as plt"
   ]
  },
  {
   "cell_type": "code",
   "execution_count": 2,
   "id": "1bba2be9",
   "metadata": {},
   "outputs": [],
   "source": [
    "data1 = ps.read_csv('Iris.csv')\n",
    "data= data1[['SepalLengthCm','SepalWidthCm']]\n",
    "data= data1.iloc[:,1:5]"
   ]
  },
  {
   "cell_type": "code",
   "execution_count": 3,
   "id": "4c2c9f75",
   "metadata": {},
   "outputs": [
    {
     "data": {
      "text/html": [
       "<div>\n",
       "<style scoped>\n",
       "    .dataframe tbody tr th:only-of-type {\n",
       "        vertical-align: middle;\n",
       "    }\n",
       "\n",
       "    .dataframe tbody tr th {\n",
       "        vertical-align: top;\n",
       "    }\n",
       "\n",
       "    .dataframe thead th {\n",
       "        text-align: right;\n",
       "    }\n",
       "</style>\n",
       "<table border=\"1\" class=\"dataframe\">\n",
       "  <thead>\n",
       "    <tr style=\"text-align: right;\">\n",
       "      <th></th>\n",
       "      <th>SepalLengthCm</th>\n",
       "      <th>SepalWidthCm</th>\n",
       "      <th>PetalLengthCm</th>\n",
       "      <th>PetalWidthCm</th>\n",
       "    </tr>\n",
       "  </thead>\n",
       "  <tbody>\n",
       "    <tr>\n",
       "      <th>0</th>\n",
       "      <td>5.1</td>\n",
       "      <td>3.5</td>\n",
       "      <td>1.4</td>\n",
       "      <td>0.2</td>\n",
       "    </tr>\n",
       "    <tr>\n",
       "      <th>1</th>\n",
       "      <td>4.9</td>\n",
       "      <td>3.0</td>\n",
       "      <td>1.4</td>\n",
       "      <td>0.2</td>\n",
       "    </tr>\n",
       "    <tr>\n",
       "      <th>2</th>\n",
       "      <td>4.7</td>\n",
       "      <td>3.2</td>\n",
       "      <td>1.3</td>\n",
       "      <td>0.2</td>\n",
       "    </tr>\n",
       "    <tr>\n",
       "      <th>3</th>\n",
       "      <td>4.6</td>\n",
       "      <td>3.1</td>\n",
       "      <td>1.5</td>\n",
       "      <td>0.2</td>\n",
       "    </tr>\n",
       "    <tr>\n",
       "      <th>4</th>\n",
       "      <td>5.0</td>\n",
       "      <td>3.6</td>\n",
       "      <td>1.4</td>\n",
       "      <td>0.2</td>\n",
       "    </tr>\n",
       "  </tbody>\n",
       "</table>\n",
       "</div>"
      ],
      "text/plain": [
       "   SepalLengthCm  SepalWidthCm  PetalLengthCm  PetalWidthCm\n",
       "0            5.1           3.5            1.4           0.2\n",
       "1            4.9           3.0            1.4           0.2\n",
       "2            4.7           3.2            1.3           0.2\n",
       "3            4.6           3.1            1.5           0.2\n",
       "4            5.0           3.6            1.4           0.2"
      ]
     },
     "execution_count": 3,
     "metadata": {},
     "output_type": "execute_result"
    }
   ],
   "source": [
    "data.head()"
   ]
  },
  {
   "cell_type": "code",
   "execution_count": 4,
   "id": "2bc1ffcc",
   "metadata": {},
   "outputs": [
    {
     "data": {
      "text/html": [
       "<div>\n",
       "<style scoped>\n",
       "    .dataframe tbody tr th:only-of-type {\n",
       "        vertical-align: middle;\n",
       "    }\n",
       "\n",
       "    .dataframe tbody tr th {\n",
       "        vertical-align: top;\n",
       "    }\n",
       "\n",
       "    .dataframe thead th {\n",
       "        text-align: right;\n",
       "    }\n",
       "</style>\n",
       "<table border=\"1\" class=\"dataframe\">\n",
       "  <thead>\n",
       "    <tr style=\"text-align: right;\">\n",
       "      <th></th>\n",
       "      <th>SepalLengthCm</th>\n",
       "      <th>SepalWidthCm</th>\n",
       "      <th>PetalLengthCm</th>\n",
       "      <th>PetalWidthCm</th>\n",
       "    </tr>\n",
       "  </thead>\n",
       "  <tbody>\n",
       "    <tr>\n",
       "      <th>145</th>\n",
       "      <td>6.7</td>\n",
       "      <td>3.0</td>\n",
       "      <td>5.2</td>\n",
       "      <td>2.3</td>\n",
       "    </tr>\n",
       "    <tr>\n",
       "      <th>146</th>\n",
       "      <td>6.3</td>\n",
       "      <td>2.5</td>\n",
       "      <td>5.0</td>\n",
       "      <td>1.9</td>\n",
       "    </tr>\n",
       "    <tr>\n",
       "      <th>147</th>\n",
       "      <td>6.5</td>\n",
       "      <td>3.0</td>\n",
       "      <td>5.2</td>\n",
       "      <td>2.0</td>\n",
       "    </tr>\n",
       "    <tr>\n",
       "      <th>148</th>\n",
       "      <td>6.2</td>\n",
       "      <td>3.4</td>\n",
       "      <td>5.4</td>\n",
       "      <td>2.3</td>\n",
       "    </tr>\n",
       "    <tr>\n",
       "      <th>149</th>\n",
       "      <td>5.9</td>\n",
       "      <td>3.0</td>\n",
       "      <td>5.1</td>\n",
       "      <td>1.8</td>\n",
       "    </tr>\n",
       "  </tbody>\n",
       "</table>\n",
       "</div>"
      ],
      "text/plain": [
       "     SepalLengthCm  SepalWidthCm  PetalLengthCm  PetalWidthCm\n",
       "145            6.7           3.0            5.2           2.3\n",
       "146            6.3           2.5            5.0           1.9\n",
       "147            6.5           3.0            5.2           2.0\n",
       "148            6.2           3.4            5.4           2.3\n",
       "149            5.9           3.0            5.1           1.8"
      ]
     },
     "execution_count": 4,
     "metadata": {},
     "output_type": "execute_result"
    }
   ],
   "source": [
    "data.tail()"
   ]
  },
  {
   "cell_type": "code",
   "execution_count": 5,
   "id": "6db073a0",
   "metadata": {},
   "outputs": [
    {
     "data": {
      "text/plain": [
       "150"
      ]
     },
     "execution_count": 5,
     "metadata": {},
     "output_type": "execute_result"
    }
   ],
   "source": [
    "#data.shape\n",
    "data.shape[0]"
   ]
  },
  {
   "cell_type": "code",
   "execution_count": 6,
   "id": "6768970c",
   "metadata": {},
   "outputs": [],
   "source": [
    "def centre_data(data):\n",
    "    g=data.mean()  ### g=np.mean(data)\n",
    "    return(data-g)"
   ]
  },
  {
   "cell_type": "code",
   "execution_count": 7,
   "id": "c55bbb9e",
   "metadata": {},
   "outputs": [],
   "source": [
    "### test \n",
    "X_c = centre_data(data)"
   ]
  },
  {
   "cell_type": "code",
   "execution_count": 8,
   "id": "8985d19e",
   "metadata": {},
   "outputs": [
    {
     "data": {
      "text/html": [
       "<div>\n",
       "<style scoped>\n",
       "    .dataframe tbody tr th:only-of-type {\n",
       "        vertical-align: middle;\n",
       "    }\n",
       "\n",
       "    .dataframe tbody tr th {\n",
       "        vertical-align: top;\n",
       "    }\n",
       "\n",
       "    .dataframe thead th {\n",
       "        text-align: right;\n",
       "    }\n",
       "</style>\n",
       "<table border=\"1\" class=\"dataframe\">\n",
       "  <thead>\n",
       "    <tr style=\"text-align: right;\">\n",
       "      <th></th>\n",
       "      <th>SepalLengthCm</th>\n",
       "      <th>SepalWidthCm</th>\n",
       "      <th>PetalLengthCm</th>\n",
       "      <th>PetalWidthCm</th>\n",
       "    </tr>\n",
       "  </thead>\n",
       "  <tbody>\n",
       "    <tr>\n",
       "      <th>0</th>\n",
       "      <td>-0.743333</td>\n",
       "      <td>0.446</td>\n",
       "      <td>-2.358667</td>\n",
       "      <td>-0.998667</td>\n",
       "    </tr>\n",
       "    <tr>\n",
       "      <th>1</th>\n",
       "      <td>-0.943333</td>\n",
       "      <td>-0.054</td>\n",
       "      <td>-2.358667</td>\n",
       "      <td>-0.998667</td>\n",
       "    </tr>\n",
       "    <tr>\n",
       "      <th>2</th>\n",
       "      <td>-1.143333</td>\n",
       "      <td>0.146</td>\n",
       "      <td>-2.458667</td>\n",
       "      <td>-0.998667</td>\n",
       "    </tr>\n",
       "    <tr>\n",
       "      <th>3</th>\n",
       "      <td>-1.243333</td>\n",
       "      <td>0.046</td>\n",
       "      <td>-2.258667</td>\n",
       "      <td>-0.998667</td>\n",
       "    </tr>\n",
       "    <tr>\n",
       "      <th>4</th>\n",
       "      <td>-0.843333</td>\n",
       "      <td>0.546</td>\n",
       "      <td>-2.358667</td>\n",
       "      <td>-0.998667</td>\n",
       "    </tr>\n",
       "    <tr>\n",
       "      <th>...</th>\n",
       "      <td>...</td>\n",
       "      <td>...</td>\n",
       "      <td>...</td>\n",
       "      <td>...</td>\n",
       "    </tr>\n",
       "    <tr>\n",
       "      <th>145</th>\n",
       "      <td>0.856667</td>\n",
       "      <td>-0.054</td>\n",
       "      <td>1.441333</td>\n",
       "      <td>1.101333</td>\n",
       "    </tr>\n",
       "    <tr>\n",
       "      <th>146</th>\n",
       "      <td>0.456667</td>\n",
       "      <td>-0.554</td>\n",
       "      <td>1.241333</td>\n",
       "      <td>0.701333</td>\n",
       "    </tr>\n",
       "    <tr>\n",
       "      <th>147</th>\n",
       "      <td>0.656667</td>\n",
       "      <td>-0.054</td>\n",
       "      <td>1.441333</td>\n",
       "      <td>0.801333</td>\n",
       "    </tr>\n",
       "    <tr>\n",
       "      <th>148</th>\n",
       "      <td>0.356667</td>\n",
       "      <td>0.346</td>\n",
       "      <td>1.641333</td>\n",
       "      <td>1.101333</td>\n",
       "    </tr>\n",
       "    <tr>\n",
       "      <th>149</th>\n",
       "      <td>0.056667</td>\n",
       "      <td>-0.054</td>\n",
       "      <td>1.341333</td>\n",
       "      <td>0.601333</td>\n",
       "    </tr>\n",
       "  </tbody>\n",
       "</table>\n",
       "<p>150 rows × 4 columns</p>\n",
       "</div>"
      ],
      "text/plain": [
       "     SepalLengthCm  SepalWidthCm  PetalLengthCm  PetalWidthCm\n",
       "0        -0.743333         0.446      -2.358667     -0.998667\n",
       "1        -0.943333        -0.054      -2.358667     -0.998667\n",
       "2        -1.143333         0.146      -2.458667     -0.998667\n",
       "3        -1.243333         0.046      -2.258667     -0.998667\n",
       "4        -0.843333         0.546      -2.358667     -0.998667\n",
       "..             ...           ...            ...           ...\n",
       "145       0.856667        -0.054       1.441333      1.101333\n",
       "146       0.456667        -0.554       1.241333      0.701333\n",
       "147       0.656667        -0.054       1.441333      0.801333\n",
       "148       0.356667         0.346       1.641333      1.101333\n",
       "149       0.056667        -0.054       1.341333      0.601333\n",
       "\n",
       "[150 rows x 4 columns]"
      ]
     },
     "execution_count": 8,
     "metadata": {},
     "output_type": "execute_result"
    }
   ],
   "source": [
    "X_c"
   ]
  },
  {
   "cell_type": "code",
   "execution_count": 9,
   "id": "d867e1c8",
   "metadata": {},
   "outputs": [],
   "source": [
    "#Définir votre propre covariance matrix\n",
    "def cor_cov_pr(X):\n",
    "  return (1/X.shape[0])*np.dot(X.T,X)"
   ]
  },
  {
   "cell_type": "code",
   "execution_count": 10,
   "id": "9c8e4a6b",
   "metadata": {},
   "outputs": [
    {
     "name": "stdout",
     "output_type": "stream",
     "text": [
      "[[ 0.68112222 -0.03900667  1.26519111  0.51345778]\n",
      " [-0.03900667  0.18675067 -0.319568   -0.11719467]\n",
      " [ 1.26519111 -0.319568    3.09242489  1.28774489]\n",
      " [ 0.51345778 -0.11719467  1.28774489  0.57853156]]\n"
     ]
    }
   ],
   "source": [
    "print(cor_cov_pr(X_c))"
   ]
  },
  {
   "cell_type": "code",
   "execution_count": 11,
   "id": "68fff803",
   "metadata": {},
   "outputs": [],
   "source": [
    "# Réduire les données\n",
    "et=X_c.std()"
   ]
  },
  {
   "cell_type": "code",
   "execution_count": 12,
   "id": "89436f24",
   "metadata": {},
   "outputs": [
    {
     "name": "stdout",
     "output_type": "stream",
     "text": [
      "     SepalLengthCm  SepalWidthCm  PetalLengthCm  PetalWidthCm\n",
      "0        -0.897674      1.028611      -1.336794     -1.308593\n",
      "1        -1.139200     -0.124540      -1.336794     -1.308593\n",
      "2        -1.380727      0.336720      -1.393470     -1.308593\n",
      "3        -1.501490      0.106090      -1.280118     -1.308593\n",
      "4        -1.018437      1.259242      -1.336794     -1.308593\n",
      "..             ...           ...            ...           ...\n",
      "145       1.034539     -0.124540       0.816888      1.443121\n",
      "146       0.551486     -1.277692       0.703536      0.918985\n",
      "147       0.793012     -0.124540       0.816888      1.050019\n",
      "148       0.430722      0.797981       0.930239      1.443121\n",
      "149       0.068433     -0.124540       0.760212      0.787951\n",
      "\n",
      "[150 rows x 4 columns]\n"
     ]
    }
   ],
   "source": [
    "X_cr=X_c/et \n",
    "print(X_cr)"
   ]
  },
  {
   "cell_type": "code",
   "execution_count": 14,
   "id": "e49c64c4",
   "metadata": {},
   "outputs": [
    {
     "name": "stdout",
     "output_type": "stream",
     "text": [
      "               SepalLengthCm  SepalWidthCm  PetalLengthCm  PetalWidthCm\n",
      "SepalLengthCm       1.000000     -0.109369       0.871754      0.817954\n",
      "SepalWidthCm       -0.109369      1.000000      -0.420516     -0.356544\n",
      "PetalLengthCm       0.871754     -0.420516       1.000000      0.962757\n",
      "PetalWidthCm        0.817954     -0.356544       0.962757      1.000000\n"
     ]
    }
   ],
   "source": [
    "cor3=data.corr()\n",
    "print(cor3)"
   ]
  },
  {
   "cell_type": "markdown",
   "id": "2952f51a",
   "metadata": {},
   "source": [
    "### Analyser le R et interpreter \n",
    "- R est la matrice de corrélation\n",
    "- Les variable les plus corrélées sont \n",
    "  - les variables X3 et X4\n",
    "  - les variables X1 et X3\n",
    "  - les variables X1 et X4\n",
    "\n",
    "\n",
    "- X1(sepal.lenght), X3(petal.lenght) et X4(petal.width) sont fortement corrélées -> On peut générer une droite de dimension 1 pour les représenter\n",
    "- X2(sepal.width) est faiblement corrélée avec les autres variables\n",
    "- X1(sepal.lenght), X3(petal.lenght) et X4(petal.width) sont linéairement dépendantes"
   ]
  },
  {
   "cell_type": "markdown",
   "id": "43477623",
   "metadata": {},
   "source": [
    "# ACP "
   ]
  },
  {
   "cell_type": "markdown",
   "id": "e45bd0e4",
   "metadata": {},
   "source": [
    "Trouver les valeurs propres et les vecteurs propres de la matrice de corrélation corr3\n",
    "- Les valeurs propres sont les valeurs de la diagonale de la matrice de corrélation\n",
    "- Les vecteurs propres sont les vecteurs de la matrice de corrélation"
   ]
  },
  {
   "cell_type": "code",
   "execution_count": 15,
   "id": "748d456a",
   "metadata": {},
   "outputs": [
    {
     "name": "stdout",
     "output_type": "stream",
     "text": [
      "[2.91081808 0.92122093 0.14735328 0.02060771]\n"
     ]
    }
   ],
   "source": [
    "from numpy.linalg import eig\n",
    "[Lambda,A]=eig(cor3)\n",
    "print(Lambda)"
   ]
  },
  {
   "cell_type": "code",
   "execution_count": 16,
   "id": "fc73ac15",
   "metadata": {},
   "outputs": [
    {
     "name": "stdout",
     "output_type": "stream",
     "text": [
      "3.9999999999999982\n"
     ]
    }
   ],
   "source": [
    "#Somme des valeurs propres = 4 <=> 4 dimensions\n",
    "print(sum(Lambda))"
   ]
  },
  {
   "cell_type": "code",
   "execution_count": 17,
   "id": "9e5265c5",
   "metadata": {},
   "outputs": [
    {
     "name": "stdout",
     "output_type": "stream",
     "text": [
      "[[ 0.52237162 -0.37231836 -0.72101681  0.26199559]\n",
      " [-0.26335492 -0.92555649  0.24203288 -0.12413481]\n",
      " [ 0.58125401 -0.02109478  0.14089226 -0.80115427]\n",
      " [ 0.56561105 -0.06541577  0.6338014   0.52354627]]\n"
     ]
    }
   ],
   "source": [
    "# Vecteur engendré par la matrice de corrélation\n",
    "print(A)"
   ]
  },
  {
   "cell_type": "markdown",
   "id": "c7bba0e7",
   "metadata": {},
   "source": [
    "On calcule le pourcentage d'inertie"
   ]
  },
  {
   "cell_type": "code",
   "execution_count": 18,
   "id": "a245d1b9",
   "metadata": {},
   "outputs": [
    {
     "name": "stdout",
     "output_type": "stream",
     "text": [
      "[72.77045209 23.03052327  3.68383196  0.51519268]\n"
     ]
    }
   ],
   "source": [
    "def pour_inertie(Lambda):\n",
    "    L=[]\n",
    "    for i in range(Lambda.shape[0]):\n",
    "        L.append(Lambda[i]/sum(Lambda)*100)\n",
    "    return np.array(L)\n",
    "\n",
    "# Pourcentage d'inertie\n",
    "print(pour_inertie(Lambda))"
   ]
  },
  {
   "cell_type": "code",
   "execution_count": 19,
   "id": "907138e7",
   "metadata": {},
   "outputs": [
    {
     "data": {
      "text/plain": [
       "95.80097536148197"
      ]
     },
     "execution_count": 19,
     "metadata": {},
     "output_type": "execute_result"
    }
   ],
   "source": [
    "# Les 2 premiers vecteurs propres sont les plus importants (environ 95% d'inertie)\n",
    "sum(pour_inertie(Lambda)[0:2]) "
   ]
  },
  {
   "cell_type": "code",
   "execution_count": 20,
   "id": "65877917",
   "metadata": {},
   "outputs": [
    {
     "data": {
      "text/plain": [
       "[<matplotlib.lines.Line2D at 0x7feb3aa17f40>]"
      ]
     },
     "execution_count": 20,
     "metadata": {},
     "output_type": "execute_result"
    },
    {
     "data": {
      "image/png": "[encoded data removed]",
      "text/plain": [
       "<Figure size 640x480 with 1 Axes>"
      ]
     },
     "metadata": {},
     "output_type": "display_data"
    }
   ],
   "source": [
    "# Visualisation des valeurs propres\n",
    "plt.plot(Lambda)"
   ]
  },
  {
   "cell_type": "code",
   "execution_count": 24,
   "id": "07457700",
   "metadata": {},
   "outputs": [
    {
     "data": {
      "text/plain": [
       "(150, 2)"
      ]
     },
     "execution_count": 24,
     "metadata": {},
     "output_type": "execute_result"
    }
   ],
   "source": [
    "# Projection des données sur les 2 premiers axes\n",
    "# Retrouver les coordonnées des points sur les nouveaux axes\n",
    "Y =  np.dot(data,A[0:2].T)\n",
    "Y.shape"
   ]
  },
  {
   "cell_type": "markdown",
   "id": "5f57575f",
   "metadata": {},
   "source": [
    "Covariance des nouvelles variable doivent tendre vers 0\n",
    "Y1 et Y2 sont indépendantes"
   ]
  },
  {
   "cell_type": "code",
   "execution_count": 25,
   "id": "f189666c",
   "metadata": {},
   "outputs": [
    {
     "data": {
      "text/plain": [
       "<matplotlib.collections.PathCollection at 0x7feb3c19fc70>"
      ]
     },
     "execution_count": 25,
     "metadata": {},
     "output_type": "execute_result"
    },
    {
     "data": {
      "image/png": "[encoded data removed]",
      "text/plain": [
       "<Figure size 640x480 with 1 Axes>"
      ]
     },
     "metadata": {},
     "output_type": "display_data"
    }
   ],
   "source": [
    "# La représentation des données sur les 2 premiers axes est plus facile à visualiserù\n",
    "plt.plot(Y[:,0],Y[:,1],\"*\")\n",
    "plt.scatter(Y[:,0],Y[:,1]) "
   ]
  },
  {
   "cell_type": "markdown",
   "id": "12d6ed74",
   "metadata": {},
   "source": [
    "`Interpreprétation` : On peut déjà voir qu'il y a 2 groupement"
   ]
  },
  {
   "cell_type": "code",
   "execution_count": null,
   "id": "13506b31",
   "metadata": {},
   "outputs": [],
   "source": []
  }
 ],
 "metadata": {
  "kernelspec": {
   "display_name": "Python 3 (ipykernel)",
   "language": "python",
   "name": "python3"
  },
  "language_info": {
   "codemirror_mode": {
    "name": "ipython",
    "version": 3
   },
   "file_extension": ".py",
   "mimetype": "text/x-python",
   "name": "python",
   "nbconvert_exporter": "python",
   "pygments_lexer": "ipython3",
   "version": "3.9.12"
  }
 },
 "nbformat": 4,
 "nbformat_minor": 5
}
