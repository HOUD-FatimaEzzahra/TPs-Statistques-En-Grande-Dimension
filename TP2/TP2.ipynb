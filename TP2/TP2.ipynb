{
 "cells": [
  {
   "cell_type": "code",
   "execution_count": 1,
   "id": "d3da55c8",
   "metadata": {},
   "outputs": [],
   "source": [
    "import numpy as np\n",
    "import pandas as pd\n",
    "import matplotlib.pyplot as plt"
   ]
  },
  {
   "cell_type": "code",
   "execution_count": 2,
   "id": "073a80f2",
   "metadata": {},
   "outputs": [],
   "source": [
    "# Lecture des données depuis le fichier CSV\n",
    "df = pd.read_csv('data.csv')"
   ]
  },
  {
   "cell_type": "code",
   "execution_count": 3,
   "id": "35644be9",
   "metadata": {},
   "outputs": [],
   "source": [
    "# Extraction des colonnes température et rendement\n",
    "x = df['temperature'].values\n",
    "y = df['rendement'].values\n",
    "n = len(x)"
   ]
  },
  {
   "cell_type": "code",
   "execution_count": 4,
   "id": "8cbad61f",
   "metadata": {},
   "outputs": [],
   "source": [
    "# Calcul de la moyenne de x\n",
    "sum_x = 0\n",
    "for i in range(n):\n",
    "    sum_x += x[i]\n",
    "mean_x = sum_x / n\n"
   ]
  },
  {
   "cell_type": "code",
   "execution_count": 5,
   "id": "47f55e10",
   "metadata": {},
   "outputs": [],
   "source": [
    "# Calcul de la moyenne de y\n",
    "sum_y = 0\n",
    "for i in range(n):\n",
    "    sum_y += y[i]\n",
    "mean_y = sum_y / n"
   ]
  },
  {
   "cell_type": "code",
   "execution_count": 6,
   "id": "3a66e743",
   "metadata": {},
   "outputs": [],
   "source": [
    "# Calcul des erreurs\n",
    "error_x = x - mean_x\n",
    "error_y = y - mean_y"
   ]
  },
  {
   "cell_type": "code",
   "execution_count": 7,
   "id": "48ece209",
   "metadata": {},
   "outputs": [],
   "source": [
    "# Calcul de beta1\n",
    "beta1 = np.sum(error_x * error_y) / np.sum(error_x**2)\n",
    "# Calcul de beta0\n",
    "beta0 = mean_y - beta1 * mean_x"
   ]
  },
  {
   "cell_type": "code",
   "execution_count": 8,
   "id": "d83cf4a7",
   "metadata": {},
   "outputs": [],
   "source": [
    "# Création de la droite de régression\n",
    "x_range = np.linspace(np.min(x), np.max(x), n)\n",
    "y_pred = beta0 + beta1 * x_range"
   ]
  },
  {
   "cell_type": "code",
   "execution_count": 9,
   "id": "4950a30c",
   "metadata": {},
   "outputs": [],
   "source": [
    "# Calcul du coefficient de détermination\n",
    "SST = np.sum((y - mean_y)**2)\n",
    "SSR = np.sum((y_pred - mean_y)**2)\n",
    "r2 = SSR / SST"
   ]
  },
  {
   "cell_type": "code",
   "execution_count": 10,
   "id": "4e067ffc",
   "metadata": {},
   "outputs": [
    {
     "name": "stdout",
     "output_type": "stream",
     "text": [
      "Moyenne de x : 145.00\n",
      "Moyenne de y : 67.30\n",
      "Erreur de x : [-45. -35. -25. -15.  -5.   5.  15.  25.  35.  45.]\n",
      "Erreur de y : [-22.3 -16.3 -13.3  -6.3  -1.3   2.7   6.7  10.7  17.7  21.7]\n",
      "beta0 : -2.74\n",
      "beta1 : 0.4830\n",
      "La droite de régression est : y = 0.48x + -2.74\n",
      "Coefficient de détermination : 0.9963\n"
     ]
    }
   ],
   "source": [
    "# Affichage des résultats\n",
    "print(\"Moyenne de x : {:.2f}\".format(mean_x))\n",
    "print(\"Moyenne de y : {:.2f}\".format(mean_y))\n",
    "print(\"Erreur de x : {}\".format(error_x))\n",
    "print(\"Erreur de y : {}\".format(error_y))\n",
    "print(\"beta0 : {:.2f}\".format(beta0))\n",
    "print(\"beta1 : {:.4f}\".format(beta1))\n",
    "print(\"La droite de régression est : y = {:.2f}x + {:.2f}\".format(beta1, beta0))\n",
    "print(\"Coefficient de détermination : {:.4f}\".format(r2))"
   ]
  },
  {
   "cell_type": "code",
   "execution_count": 11,
   "id": "e3abd956",
   "metadata": {},
   "outputs": [
    {
     "data": {
      "image/png": "[encoded data removed]",
      "text/plain": [
       "<Figure size 640x480 with 1 Axes>"
      ]
     },
     "metadata": {},
     "output_type": "display_data"
    }
   ],
   "source": [
    "# Affichage du graphique des données avec la droite de régression\n",
    "plt.scatter(x, y, color='blue')\n",
    "plt.plot(x_range, y_pred, color='red')\n",
    "plt.title(\"Données avec la droite de régression\")\n",
    "plt.show()"
   ]
  },
  {
   "cell_type": "code",
   "execution_count": null,
   "id": "3b3676ff",
   "metadata": {},
   "outputs": [],
   "source": []
  }
 ],
 "metadata": {
  "kernelspec": {
   "display_name": "Python 3 (ipykernel)",
   "language": "python",
   "name": "python3"
  },
  "language_info": {
   "codemirror_mode": {
    "name": "ipython",
    "version": 3
   },
   "file_extension": ".py",
   "mimetype": "text/x-python",
   "name": "python",
   "nbconvert_exporter": "python",
   "pygments_lexer": "ipython3",
   "version": "3.9.13"
  }
 },
 "nbformat": 4,
 "nbformat_minor": 5
}
