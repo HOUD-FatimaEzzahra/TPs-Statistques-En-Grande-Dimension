{
 "cells": [
  {
   "cell_type": "code",
   "execution_count": 1,
   "id": "86adf595",
   "metadata": {},
   "outputs": [],
   "source": [
    "# importation des biblio\n",
    "import pandas as pd \n",
    "import numpy as np\n",
    "import matplotlib.pyplot as plt "
   ]
  },
  {
   "cell_type": "code",
   "execution_count": 3,
   "id": "2a735b6d",
   "metadata": {},
   "outputs": [
    {
     "data": {
      "text/html": [
       "<div>\n",
       "<style scoped>\n",
       "    .dataframe tbody tr th:only-of-type {\n",
       "        vertical-align: middle;\n",
       "    }\n",
       "\n",
       "    .dataframe tbody tr th {\n",
       "        vertical-align: top;\n",
       "    }\n",
       "\n",
       "    .dataframe thead th {\n",
       "        text-align: right;\n",
       "    }\n",
       "</style>\n",
       "<table border=\"1\" class=\"dataframe\">\n",
       "  <thead>\n",
       "    <tr style=\"text-align: right;\">\n",
       "      <th></th>\n",
       "      <th>Temperature</th>\n",
       "      <th>Rendement</th>\n",
       "    </tr>\n",
       "  </thead>\n",
       "  <tbody>\n",
       "    <tr>\n",
       "      <th>0</th>\n",
       "      <td>100</td>\n",
       "      <td>45</td>\n",
       "    </tr>\n",
       "    <tr>\n",
       "      <th>1</th>\n",
       "      <td>110</td>\n",
       "      <td>51</td>\n",
       "    </tr>\n",
       "    <tr>\n",
       "      <th>2</th>\n",
       "      <td>120</td>\n",
       "      <td>54</td>\n",
       "    </tr>\n",
       "    <tr>\n",
       "      <th>3</th>\n",
       "      <td>130</td>\n",
       "      <td>61</td>\n",
       "    </tr>\n",
       "    <tr>\n",
       "      <th>4</th>\n",
       "      <td>140</td>\n",
       "      <td>66</td>\n",
       "    </tr>\n",
       "    <tr>\n",
       "      <th>5</th>\n",
       "      <td>150</td>\n",
       "      <td>70</td>\n",
       "    </tr>\n",
       "    <tr>\n",
       "      <th>6</th>\n",
       "      <td>160</td>\n",
       "      <td>74</td>\n",
       "    </tr>\n",
       "    <tr>\n",
       "      <th>7</th>\n",
       "      <td>170</td>\n",
       "      <td>78</td>\n",
       "    </tr>\n",
       "    <tr>\n",
       "      <th>8</th>\n",
       "      <td>180</td>\n",
       "      <td>85</td>\n",
       "    </tr>\n",
       "    <tr>\n",
       "      <th>9</th>\n",
       "      <td>190</td>\n",
       "      <td>89</td>\n",
       "    </tr>\n",
       "  </tbody>\n",
       "</table>\n",
       "</div>"
      ],
      "text/plain": [
       "   Temperature  Rendement \n",
       "0          100          45\n",
       "1          110          51\n",
       "2          120          54\n",
       "3          130          61\n",
       "4          140          66\n",
       "5          150          70\n",
       "6          160          74\n",
       "7          170          78\n",
       "8          180          85\n",
       "9          190          89"
      ]
     },
     "execution_count": 3,
     "metadata": {},
     "output_type": "execute_result"
    }
   ],
   "source": [
    "# lecture des donnes \n",
    "data=pd.read_csv('data.csv')\n",
    "data"
   ]
  },
  {
   "cell_type": "code",
   "execution_count": 4,
   "id": "5e7c5f27",
   "metadata": {},
   "outputs": [],
   "source": [
    "type(data)\n",
    "data.tail()\n",
    "x=data.iloc[:,0]\n",
    "y=data.iloc[:,1]"
   ]
  },
  {
   "cell_type": "code",
   "execution_count": 5,
   "id": "575eb677",
   "metadata": {},
   "outputs": [
    {
     "data": {
      "text/plain": [
       "(0    100\n",
       " 1    110\n",
       " 2    120\n",
       " 3    130\n",
       " 4    140\n",
       " 5    150\n",
       " 6    160\n",
       " 7    170\n",
       " 8    180\n",
       " 9    190\n",
       " Name: Temperature, dtype: int64,\n",
       " 0    45\n",
       " 1    51\n",
       " 2    54\n",
       " 3    61\n",
       " 4    66\n",
       " 5    70\n",
       " 6    74\n",
       " 7    78\n",
       " 8    85\n",
       " 9    89\n",
       " Name: Rendement , dtype: int64)"
      ]
     },
     "execution_count": 5,
     "metadata": {},
     "output_type": "execute_result"
    }
   ],
   "source": [
    "x,y"
   ]
  },
  {
   "cell_type": "code",
   "execution_count": 6,
   "id": "511796bc",
   "metadata": {},
   "outputs": [
    {
     "name": "stdout",
     "output_type": "stream",
     "text": [
      "145.0\n",
      "67.3\n"
     ]
    }
   ],
   "source": [
    "# moyenn de x y \n",
    "print(x.mean())\n",
    "print(y.mean())"
   ]
  },
  {
   "cell_type": "code",
   "execution_count": 7,
   "id": "2b31a6a2",
   "metadata": {},
   "outputs": [
    {
     "name": "stdout",
     "output_type": "stream",
     "text": [
      "145.0\n",
      "67.3\n"
     ]
    }
   ],
   "source": [
    "# fonction qui calcule la moyenne de x et y \n",
    "def getMoy(v):\n",
    "    return 1/len(v)*sum(v)\n",
    "\n",
    "print(getMoy(x))\n",
    "print(getMoy(y))"
   ]
  },
  {
   "cell_type": "code",
   "execution_count": 8,
   "id": "6d8536ea",
   "metadata": {},
   "outputs": [
    {
     "name": "stdout",
     "output_type": "stream",
     "text": [
      "825.0\n",
      "193.20999999999998\n"
     ]
    }
   ],
   "source": [
    "# fonction qui calcule la variance \n",
    "def getVar(v):\n",
    "    return 1/len(v)*sum(np.square(v-getMoy(v)))\n",
    "\n",
    "print(getVar(x))\n",
    "print(getVar(y))"
   ]
  },
  {
   "cell_type": "code",
   "execution_count": 9,
   "id": "6836c672",
   "metadata": {},
   "outputs": [
    {
     "name": "stdout",
     "output_type": "stream",
     "text": [
      "398.5\n"
     ]
    }
   ],
   "source": [
    "#fonction qui calcule la covariance \n",
    "def getCov(v1,v2):\n",
    "    return 1/len(v1)*sum((v1-getMoy(v1))*(v2-getMoy(v2)))\n",
    "\n",
    "print (getCov(x,y))"
   ]
  },
  {
   "cell_type": "code",
   "execution_count": 11,
   "id": "67b5b7e3",
   "metadata": {},
   "outputs": [
    {
     "name": "stdout",
     "output_type": "stream",
     "text": [
      "-2.739393939393949\n",
      "0.48303030303030303\n"
     ]
    }
   ],
   "source": [
    "# calcule de beta0 et beta1\n",
    "def getBeta1(x,y):\n",
    "    return getCov(x,y)/getVar(x)    \n",
    "    \n",
    "def getBeta0(x,y):\n",
    "    return getMoy(y)-getBeta1(x,y)*getMoy(x)\n",
    "\n",
    "print(getBeta0(x,y))\n",
    "print(getBeta1(x,y))"
   ]
  },
  {
   "cell_type": "code",
   "execution_count": 14,
   "id": "1bb44eaf",
   "metadata": {},
   "outputs": [
    {
     "name": "stdout",
     "output_type": "stream",
     "text": [
      "La droite de régression est : Y = -2.739393939393949 + (0.48303030303030303)*x\n"
     ]
    }
   ],
   "source": [
    "# détermination de la droite de régression Y\n",
    "beta0 = getBeta0(x,y)\n",
    "beta1 = getBeta1(x,y)\n",
    "print(\"La droite de régression est : Y = \" + str(beta0) + \" + (\" + str(beta1) + \")*x\")"
   ]
  },
  {
   "cell_type": "code",
   "execution_count": 15,
   "id": "76ae8858",
   "metadata": {},
   "outputs": [
    {
     "name": "stdout",
     "output_type": "stream",
     "text": [
      "56.19030303030302\n"
     ]
    }
   ],
   "source": [
    "# calcule de y(x)\n",
    "def Y(x,v1,v2):\n",
    "    return getBeta0(v1,v2)+getBeta1(v1,v2)*x\n",
    "\n",
    "print(Y(122,x,y))"
   ]
  },
  {
   "cell_type": "code",
   "execution_count": 24,
   "id": "735a6a6e",
   "metadata": {},
   "outputs": [
    {
     "data": {
      "text/plain": [
       "[<matplotlib.lines.Line2D at 0x1e86cf50b20>]"
      ]
     },
     "execution_count": 24,
     "metadata": {},
     "output_type": "execute_result"
    },
    {
     "data": {
      "image/png": "[encoded data removed]",
      "text/plain": [
       "<Figure size 640x480 with 1 Axes>"
      ]
     },
     "metadata": {},
     "output_type": "display_data"
    }
   ],
   "source": [
    "#dresser la droite de regression\n",
    "plt.plot(x, y,'.',color='g')\n",
    "plt.plot(x, Y(x,x,y),color='r')"
   ]
  },
  {
   "cell_type": "code",
   "execution_count": 25,
   "id": "24eac0fa",
   "metadata": {},
   "outputs": [
    {
     "name": "stdout",
     "output_type": "stream",
     "text": [
      "7.224242424242385\n"
     ]
    }
   ],
   "source": [
    "# la fonction de l'erreur \n",
    "def getError(v1,v2):\n",
    "    return sum(np.square(v2-Y(v1,v1,v2)))\n",
    "\n",
    "print(getError(x,y))"
   ]
  },
  {
   "cell_type": "code",
   "execution_count": 26,
   "id": "1ec095f5",
   "metadata": {},
   "outputs": [
    {
     "name": "stdout",
     "output_type": "stream",
     "text": [
      "r =0.9981287179618071\n"
     ]
    }
   ],
   "source": [
    "#le coefficient de correlation\n",
    "def getCoeffCorr(v1,v2):\n",
    "    return getCov(v1,v2)/(np.sqrt(getVar(v1))*np.sqrt(getVar(v2)))\n",
    "\n",
    "print(\"r =\"+str(getCoeffCorr(x,y)))"
   ]
  },
  {
   "cell_type": "code",
   "execution_count": 29,
   "id": "6dc87ee1",
   "metadata": {},
   "outputs": [
    {
     "name": "stdout",
     "output_type": "stream",
     "text": [
      "R2 =0.9962609376200807\n"
     ]
    }
   ],
   "source": [
    "# Le coefficient de determination \n",
    "def getCoeffDet(v1,v2):\n",
    "    return np.square(getCoeffCorr(v1,v2))\n",
    "\n",
    "print(\"R2 =\"+str(getCoeffDet(x,y)))"
   ]
  },
  {
   "cell_type": "code",
   "execution_count": 30,
   "id": "27038ce9",
   "metadata": {},
   "outputs": [],
   "source": [
    "#ajouter des données \n",
    "v1=pd.Series([105,180])\n",
    "v2=pd.Series([70,70])\n",
    "x2=pd.concat([v1,x],ignore_index=True)\n",
    "y2=pd.concat([v2,y],ignore_index=True)"
   ]
  },
  {
   "cell_type": "code",
   "execution_count": 31,
   "id": "8494548b",
   "metadata": {},
   "outputs": [
    {
     "data": {
      "text/plain": [
       "(0     105\n",
       " 1     180\n",
       " 2     100\n",
       " 3     110\n",
       " 4     120\n",
       " 5     130\n",
       " 6     140\n",
       " 7     150\n",
       " 8     160\n",
       " 9     170\n",
       " 10    180\n",
       " 11    190\n",
       " dtype: int64,\n",
       " 0     70\n",
       " 1     70\n",
       " 2     45\n",
       " 3     51\n",
       " 4     54\n",
       " 5     61\n",
       " 6     66\n",
       " 7     70\n",
       " 8     74\n",
       " 9     78\n",
       " 10    85\n",
       " 11    89\n",
       " dtype: int64)"
      ]
     },
     "execution_count": 31,
     "metadata": {},
     "output_type": "execute_result"
    }
   ],
   "source": [
    "x2,y2"
   ]
  },
  {
   "cell_type": "code",
   "execution_count": 32,
   "id": "e912fb73",
   "metadata": {},
   "outputs": [
    {
     "data": {
      "text/plain": [
       "[<matplotlib.lines.Line2D at 0x1e86bf16a60>]"
      ]
     },
     "execution_count": 32,
     "metadata": {},
     "output_type": "execute_result"
    },
    {
     "data": {
      "image/png": "[encoded data removed]",
      "text/plain": [
       "<Figure size 640x480 with 1 Axes>"
      ]
     },
     "metadata": {},
     "output_type": "display_data"
    }
   ],
   "source": [
    "plt.plot(x2,y2,\"*\",color=\"red\")\n",
    "plt.plot(x2,Y(x2,x2,y2),color=\"blue\")"
   ]
  },
  {
   "cell_type": "code",
   "execution_count": 33,
   "id": "0cf5a4ed",
   "metadata": {},
   "outputs": [
    {
     "name": "stdout",
     "output_type": "stream",
     "text": [
      "Le nouveau R2=0.7334777477210158\n"
     ]
    }
   ],
   "source": [
    "#recalculer le coeff de determination \n",
    "print(\"Le nouveau R2=\"+str(getCoeffDet(x2,y2)))"
   ]
  },
  {
   "cell_type": "code",
   "execution_count": null,
   "id": "91697ec8",
   "metadata": {},
   "outputs": [],
   "source": []
  }
 ],
 "metadata": {
  "kernelspec": {
   "display_name": "Python 3 (ipykernel)",
   "language": "python",
   "name": "python3"
  },
  "language_info": {
   "codemirror_mode": {
    "name": "ipython",
    "version": 3
   },
   "file_extension": ".py",
   "mimetype": "text/x-python",
   "name": "python",
   "nbconvert_exporter": "python",
   "pygments_lexer": "ipython3",
   "version": "3.9.13"
  }
 },
 "nbformat": 4,
 "nbformat_minor": 5
}
